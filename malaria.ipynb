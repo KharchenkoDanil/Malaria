{
 "cells": [
  {
   "cell_type": "code",
   "execution_count": 1,
   "id": "3b6f81e9",
   "metadata": {},
   "outputs": [
    {
     "name": "stderr",
     "output_type": "stream",
     "text": [
      "C:\\Users\\DanilAdmin\\anaconda3\\envs\\tensorflow\\lib\\site-packages\\tensorflow\\python\\framework\\dtypes.py:516: FutureWarning: Passing (type, 1) or '1type' as a synonym of type is deprecated; in a future version of numpy, it will be understood as (type, (1,)) / '(1,)type'.\n",
      "  _np_qint8 = np.dtype([(\"qint8\", np.int8, 1)])\n",
      "C:\\Users\\DanilAdmin\\anaconda3\\envs\\tensorflow\\lib\\site-packages\\tensorflow\\python\\framework\\dtypes.py:517: FutureWarning: Passing (type, 1) or '1type' as a synonym of type is deprecated; in a future version of numpy, it will be understood as (type, (1,)) / '(1,)type'.\n",
      "  _np_quint8 = np.dtype([(\"quint8\", np.uint8, 1)])\n",
      "C:\\Users\\DanilAdmin\\anaconda3\\envs\\tensorflow\\lib\\site-packages\\tensorflow\\python\\framework\\dtypes.py:518: FutureWarning: Passing (type, 1) or '1type' as a synonym of type is deprecated; in a future version of numpy, it will be understood as (type, (1,)) / '(1,)type'.\n",
      "  _np_qint16 = np.dtype([(\"qint16\", np.int16, 1)])\n",
      "C:\\Users\\DanilAdmin\\anaconda3\\envs\\tensorflow\\lib\\site-packages\\tensorflow\\python\\framework\\dtypes.py:519: FutureWarning: Passing (type, 1) or '1type' as a synonym of type is deprecated; in a future version of numpy, it will be understood as (type, (1,)) / '(1,)type'.\n",
      "  _np_quint16 = np.dtype([(\"quint16\", np.uint16, 1)])\n",
      "C:\\Users\\DanilAdmin\\anaconda3\\envs\\tensorflow\\lib\\site-packages\\tensorflow\\python\\framework\\dtypes.py:520: FutureWarning: Passing (type, 1) or '1type' as a synonym of type is deprecated; in a future version of numpy, it will be understood as (type, (1,)) / '(1,)type'.\n",
      "  _np_qint32 = np.dtype([(\"qint32\", np.int32, 1)])\n",
      "C:\\Users\\DanilAdmin\\anaconda3\\envs\\tensorflow\\lib\\site-packages\\tensorflow\\python\\framework\\dtypes.py:525: FutureWarning: Passing (type, 1) or '1type' as a synonym of type is deprecated; in a future version of numpy, it will be understood as (type, (1,)) / '(1,)type'.\n",
      "  np_resource = np.dtype([(\"resource\", np.ubyte, 1)])\n",
      "C:\\Users\\DanilAdmin\\anaconda3\\envs\\tensorflow\\lib\\site-packages\\tensorboard\\compat\\tensorflow_stub\\dtypes.py:541: FutureWarning: Passing (type, 1) or '1type' as a synonym of type is deprecated; in a future version of numpy, it will be understood as (type, (1,)) / '(1,)type'.\n",
      "  _np_qint8 = np.dtype([(\"qint8\", np.int8, 1)])\n",
      "C:\\Users\\DanilAdmin\\anaconda3\\envs\\tensorflow\\lib\\site-packages\\tensorboard\\compat\\tensorflow_stub\\dtypes.py:542: FutureWarning: Passing (type, 1) or '1type' as a synonym of type is deprecated; in a future version of numpy, it will be understood as (type, (1,)) / '(1,)type'.\n",
      "  _np_quint8 = np.dtype([(\"quint8\", np.uint8, 1)])\n",
      "C:\\Users\\DanilAdmin\\anaconda3\\envs\\tensorflow\\lib\\site-packages\\tensorboard\\compat\\tensorflow_stub\\dtypes.py:543: FutureWarning: Passing (type, 1) or '1type' as a synonym of type is deprecated; in a future version of numpy, it will be understood as (type, (1,)) / '(1,)type'.\n",
      "  _np_qint16 = np.dtype([(\"qint16\", np.int16, 1)])\n",
      "C:\\Users\\DanilAdmin\\anaconda3\\envs\\tensorflow\\lib\\site-packages\\tensorboard\\compat\\tensorflow_stub\\dtypes.py:544: FutureWarning: Passing (type, 1) or '1type' as a synonym of type is deprecated; in a future version of numpy, it will be understood as (type, (1,)) / '(1,)type'.\n",
      "  _np_quint16 = np.dtype([(\"quint16\", np.uint16, 1)])\n",
      "C:\\Users\\DanilAdmin\\anaconda3\\envs\\tensorflow\\lib\\site-packages\\tensorboard\\compat\\tensorflow_stub\\dtypes.py:545: FutureWarning: Passing (type, 1) or '1type' as a synonym of type is deprecated; in a future version of numpy, it will be understood as (type, (1,)) / '(1,)type'.\n",
      "  _np_qint32 = np.dtype([(\"qint32\", np.int32, 1)])\n",
      "C:\\Users\\DanilAdmin\\anaconda3\\envs\\tensorflow\\lib\\site-packages\\tensorboard\\compat\\tensorflow_stub\\dtypes.py:550: FutureWarning: Passing (type, 1) or '1type' as a synonym of type is deprecated; in a future version of numpy, it will be understood as (type, (1,)) / '(1,)type'.\n",
      "  np_resource = np.dtype([(\"resource\", np.ubyte, 1)])\n"
     ]
    }
   ],
   "source": [
    "from tensorflow.keras.models import Sequential, Model\n",
    "from tensorflow.keras.layers import Dense, Input, InputLayer, Dropout, Activation, Flatten, Conv2D\n",
    "import tensorflow as tf\n",
    "import numpy as np\n",
    "import shutil\n",
    "import random\n",
    "import cv2\n",
    "import os\n",
    "\n"
   ]
  },
  {
   "cell_type": "code",
   "execution_count": 2,
   "id": "dc15695e",
   "metadata": {},
   "outputs": [
    {
     "name": "stdout",
     "output_type": "stream",
     "text": [
      "cell_images/Parasitized\n",
      "Total images  : Parasitized 13780\n",
      "Training : Parasitized 10335\n",
      "Validation : Parasitized 2756\n",
      "Testing : Parasitized 689\n",
      "cell_images/Uninfected\n",
      "Total images  : Uninfected 13780\n",
      "Training : Uninfected 10335\n",
      "Validation : Uninfected 2756\n",
      "Testing : Uninfected 689\n"
     ]
    }
   ],
   "source": [
    "# creating train / val /test\n",
    "root_dir = 'cell_images/'\n",
    "new_root = 'AllDatasets/'\n",
    "classes = ['Parasitized', 'Uninfected']\n",
    "\n",
    "for cls in classes:\n",
    "    os.makedirs(root_dir + new_root+ 'train/' + cls)\n",
    "    os.makedirs(root_dir +new_root +'val/' + cls)\n",
    "    os.makedirs(root_dir +new_root + 'test/' + cls)\n",
    "    \n",
    "## creating partition of the data after shuffeling\n",
    "\n",
    "for cls in classes:\n",
    "    src = root_dir + cls # folder to copy images from\n",
    "    print(src)\n",
    "\n",
    "    allFileNames = os.listdir(src)\n",
    "    np.random.shuffle(allFileNames)\n",
    "\n",
    "    ## here 0.75 = training ratio , (0.95-0.75) = validation ratio , (1-0.95) =  \n",
    "    ##training ratio  \n",
    "    train_FileNames,val_FileNames,test_FileNames = np.split(np.array(allFileNames),[int(len(allFileNames)*0.75),int(len(allFileNames)*0.95)])\n",
    "\n",
    "    # #Converting file names from array to list\n",
    "\n",
    "    train_FileNames = [src+'/'+ name for name in train_FileNames]\n",
    "    val_FileNames = [src+'/' + name for name in val_FileNames]\n",
    "    test_FileNames = [src+'/' + name for name in test_FileNames]\n",
    "\n",
    "    print('Total images  : '+ cls + ' ' +str(len(allFileNames)))\n",
    "    print('Training : '+ cls + ' '+str(len(train_FileNames)))\n",
    "    print('Validation : '+ cls + ' ' +str(len(val_FileNames)))\n",
    "    print('Testing : '+ cls + ' '+str(len(test_FileNames)))\n",
    "    \n",
    "    ## Copy pasting images to target directory\n",
    "\n",
    "    for name in train_FileNames:\n",
    "        shutil.copy(name, root_dir + new_root+'train/'+cls )\n",
    "\n",
    "\n",
    "    for name in val_FileNames:\n",
    "        shutil.copy(name, root_dir +new_root+'val/'+cls )\n",
    "\n",
    "\n",
    "    for name in test_FileNames:\n",
    "        shutil.copy(name,root_dir + new_root+'test/'+cls )"
   ]
  },
  {
   "cell_type": "code",
   "execution_count": 2,
   "id": "5b363953",
   "metadata": {},
   "outputs": [],
   "source": [
    "IMG_WIDTH=128\n",
    "IMG_HEIGHT=128\n",
    "img_folder=r'C:\\Users\\DanilAdmin\\malaria\\cell_images\\AllDatasets\\train'"
   ]
  },
  {
   "cell_type": "code",
   "execution_count": 3,
   "id": "86a466e3",
   "metadata": {},
   "outputs": [],
   "source": [
    "def create_dataset(img_folder):\n",
    "   \n",
    "    img_data_array=[]\n",
    "    class_name=[]\n",
    "   \n",
    "    for dir1 in os.listdir(img_folder):\n",
    "        for file in os.listdir(os.path.join(img_folder, dir1)):\n",
    "                image_path= os.path.join(img_folder, dir1,  file)\n",
    "                image= cv2.imread( image_path, cv2.COLOR_BGR2RGB)\n",
    "                if image is not None:\n",
    "                    image=cv2.resize(image, (IMG_HEIGHT, IMG_WIDTH),interpolation = cv2.INTER_AREA)\n",
    "                    image=np.array(image)\n",
    "                    image = image.astype('float32')\n",
    "                    image /= 255 \n",
    "                    img_data_array.append(image)\n",
    "                    class_name.append(dir1)\n",
    "    return img_data_array, class_name\n",
    "# extract the image array and class name\n",
    "X_train, Y_train =create_dataset(r'C:\\Users\\DanilAdmin\\malaria\\cell_images\\AllDatasets\\train')\n",
    "X_val, Y_val =create_dataset(r'C:\\Users\\DanilAdmin\\malaria\\cell_images\\AllDatasets\\val')\n",
    "X_test, Y_test =create_dataset(r'C:\\Users\\DanilAdmin\\malaria\\cell_images\\AllDatasets\\test')"
   ]
  },
  {
   "cell_type": "code",
   "execution_count": 4,
   "id": "1f9ec038",
   "metadata": {},
   "outputs": [
    {
     "data": {
      "text/plain": [
       "{'Parasitized': 0, 'Uninfected': 1}"
      ]
     },
     "execution_count": 4,
     "metadata": {},
     "output_type": "execute_result"
    }
   ],
   "source": [
    "target_dict={k: v for v, k in enumerate(np.unique(Y_train))}\n",
    "target_dict"
   ]
  },
  {
   "cell_type": "code",
   "execution_count": 9,
   "id": "8c45ef0f",
   "metadata": {},
   "outputs": [],
   "source": [
    "target_val_train=[target_dict[Y_train[i]] for i in range(len(Y_train))]\n",
    "target_val_val=[target_dict[Y_val[i]] for i in range(len(Y_val))]\n",
    "target_val_test=[target_dict[Y_test[i]] for i in range(len(Y_test))]"
   ]
  },
  {
   "cell_type": "code",
   "execution_count": 6,
   "id": "8b7854be",
   "metadata": {},
   "outputs": [
    {
     "name": "stdout",
     "output_type": "stream",
     "text": [
      "WARNING:tensorflow:From C:\\Users\\DanilAdmin\\anaconda3\\envs\\tensorflow\\lib\\site-packages\\tensorflow\\python\\ops\\init_ops.py:1251: calling VarianceScaling.__init__ (from tensorflow.python.ops.init_ops) with dtype is deprecated and will be removed in a future version.\n",
      "Instructions for updating:\n",
      "Call initializer instance with the dtype argument instead of passing it to the constructor\n"
     ]
    }
   ],
   "source": [
    "model=tf.keras.Sequential(\n",
    "        [\n",
    "            tf.keras.layers.InputLayer(input_shape=(IMG_HEIGHT,IMG_WIDTH, 3)),\n",
    "            tf.keras.layers.Conv2D(filters=32, kernel_size=3, strides=(2, 2), padding='same', activation='relu'),\n",
    "            tf.keras.layers.Conv2D(filters=64, kernel_size=3, strides=(2, 2), padding='same', activation='relu'),\n",
    "            tf.keras.layers.Flatten(),\n",
    "            tf.keras.layers.Dense(2,activation=\"softmax\")\n",
    "        ])\n",
    "model.compile(optimizer='adam', loss='sparse_categorical_crossentropy', metrics=['accuracy'])"
   ]
  },
  {
   "cell_type": "code",
   "execution_count": 7,
   "id": "e0a64099",
   "metadata": {},
   "outputs": [
    {
     "name": "stdout",
     "output_type": "stream",
     "text": [
      "Train on 20668 samples, validate on 5512 samples\n",
      "Epoch 1/10\n",
      "20668/20668 [==============================] - 981s 47ms/sample - loss: 0.6633 - acc: 0.6159 - val_loss: 0.5973 - val_acc: 0.6767\n",
      "Epoch 2/10\n",
      "20668/20668 [==============================] - 352s 17ms/sample - loss: 0.5601 - acc: 0.7242 - val_loss: 0.5027 - val_acc: 0.7761\n",
      "Epoch 3/10\n",
      "20668/20668 [==============================] - 139s 7ms/sample - loss: 0.4561 - acc: 0.8138 - val_loss: 0.4123 - val_acc: 0.8240\n",
      "Epoch 4/10\n",
      "20668/20668 [==============================] - 154s 7ms/sample - loss: 0.3680 - acc: 0.8658 - val_loss: 0.4202 - val_acc: 0.8104\n",
      "Epoch 5/10\n",
      "20668/20668 [==============================] - 152s 7ms/sample - loss: 0.3268 - acc: 0.8851 - val_loss: 0.4159 - val_acc: 0.8104\n",
      "Epoch 6/10\n",
      "20668/20668 [==============================] - 206s 10ms/sample - loss: 0.2826 - acc: 0.9036 - val_loss: 0.4075 - val_acc: 0.8182\n",
      "Epoch 7/10\n",
      "20668/20668 [==============================] - 152s 7ms/sample - loss: 0.2457 - acc: 0.9213 - val_loss: 0.4749 - val_acc: 0.7843\n",
      "Epoch 8/10\n",
      "20668/20668 [==============================] - 172s 8ms/sample - loss: 0.1974 - acc: 0.9389 - val_loss: 0.3980 - val_acc: 0.8384\n",
      "Epoch 9/10\n",
      "20668/20668 [==============================] - 156s 8ms/sample - loss: 0.1468 - acc: 0.9550 - val_loss: 0.3833 - val_acc: 0.8598\n",
      "Epoch 10/10\n",
      "20668/20668 [==============================] - 156s 8ms/sample - loss: 0.1667 - acc: 0.9464 - val_loss: 0.4115 - val_acc: 0.8427\n"
     ]
    }
   ],
   "source": [
    "history = model.fit(x=np.array(X_train, np.float32),\n",
    "                    y=np.array(list(map(int,target_val_train)), np.float32), \n",
    "                    batch_size=64, \n",
    "                    epochs=10, \n",
    "                    validation_data=(np.array(X_val, np.float32), np.array(list(map(int,target_val_val)), np.float32))\n",
    "                   )"
   ]
  },
  {
   "cell_type": "code",
   "execution_count": 10,
   "id": "cf44eb0b",
   "metadata": {},
   "outputs": [
    {
     "name": "stdout",
     "output_type": "stream",
     "text": [
      "Evaluate on test data\n",
      "1378/1378 [==============================] - 3s 2ms/sample - loss: 0.4369 - acc: 0.8462\n",
      "test loss, test acc: [0.4369001638560579, 0.84615386]\n"
     ]
    }
   ],
   "source": [
    "print(\"Evaluate on test data\")\n",
    "results = model.evaluate(np.array(X_test, np.float32), np.array(list(map(int,target_val_test)), np.float32), batch_size=128)\n",
    "print(\"test loss, test acc:\", results)"
   ]
  },
  {
   "cell_type": "code",
   "execution_count": 16,
   "id": "da711df0",
   "metadata": {},
   "outputs": [
    {
     "data": {
      "image/png": "[encoded data removed]",
      "text/plain": [
       "<Figure size 432x288 with 1 Axes>"
      ]
     },
     "metadata": {
      "needs_background": "light"
     },
     "output_type": "display_data"
    }
   ],
   "source": [
    "import matplotlib.pyplot as plt\n",
    "epoches=np.linspace(1,10,10)\n",
    "\n",
    "fig, ax = plt.subplots()\n",
    "\n",
    "ax.plot(epoches, history.history['acc'])\n",
    "ax.grid()\n",
    "\n",
    "ax.set_xlabel('Epoches')\n",
    "ax.set_ylabel('Accuracy')\n",
    "\n",
    "plt.show()"
   ]
  }
 ],
 "metadata": {
  "kernelspec": {
   "display_name": "Python 3 (ipykernel)",
   "language": "python",
   "name": "python3"
  },
  "language_info": {
   "codemirror_mode": {
    "name": "ipython",
    "version": 3
   },
   "file_extension": ".py",
   "mimetype": "text/x-python",
   "name": "python",
   "nbconvert_exporter": "python",
   "pygments_lexer": "ipython3",
   "version": "3.7.12"
  }
 },
 "nbformat": 4,
 "nbformat_minor": 5
}
